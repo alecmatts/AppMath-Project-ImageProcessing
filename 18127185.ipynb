{
 "cells": [
  {
   "cell_type": "markdown",
   "metadata": {},
   "source": [
    "# Đồ án 2: Image Processing"
   ]
  },
  {
   "cell_type": "code",
   "execution_count": null,
   "metadata": {},
   "outputs": [],
   "source": [
    "import numpy as np\n",
    "from PIL import Image\n",
    "import matplotlib.pyplot as plt"
   ]
  },
  {
   "cell_type": "markdown",
   "metadata": {},
   "source": [
    "## Thay đổi độ sáng"
   ]
  },
  {
   "cell_type": "code",
   "execution_count": null,
   "metadata": {},
   "outputs": [],
   "source": [
    "def adjust_brightness(img, brightness):\n",
    "    return np.uint8(np.clip(img + np.array([brightness], dtype=np.int16), 0, 255))"
   ]
  },
  {
   "cell_type": "markdown",
   "metadata": {},
   "source": [
    "## Thay đổi độ tương phản"
   ]
  },
  {
   "cell_type": "code",
   "execution_count": null,
   "metadata": {},
   "outputs": [],
   "source": [
    "def adjust_contrast(img, contrast):\n",
    "    contrast = np.clip(float(contrast), -255, 255)\n",
    "    factor = (259 * (contrast + 255)) / (255 * (259 - contrast))\n",
    "    return np.uint8(np.clip(factor * (img.astype(float) - 128) + 128, 0, 255))"
   ]
  },
  {
   "cell_type": "markdown",
   "metadata": {},
   "source": [
    "## Chuyển đổi ảnh RGB thành ảnh xám"
   ]
  },
  {
   "cell_type": "code",
   "execution_count": null,
   "metadata": {},
   "outputs": [],
   "source": [
    "def to_grayscale(img):\n",
    "    return np.uint8(np.dot(img[... , :3], [0.299 , 0.587, 0.114]))"
   ]
  },
  {
   "cell_type": "markdown",
   "metadata": {},
   "source": [
    "## Lật ảnh ngang - dọc"
   ]
  },
  {
   "cell_type": "code",
   "execution_count": null,
   "metadata": {},
   "outputs": [],
   "source": [
    "def flip(img, direction):\n",
    "    return np.flipud(img) if direction == 'vertical' else np.fliplr(img)"
   ]
  },
  {
   "cell_type": "markdown",
   "metadata": {},
   "source": [
    "## Chồng hai ảnh cùng kích thước"
   ]
  },
  {
   "cell_type": "code",
   "execution_count": null,
   "metadata": {},
   "outputs": [],
   "source": [
    "def blend(img_1, img_2, alpha):\n",
    "    return np.uint8(alpha * img_1.astype(float) + (1-alpha) * img_2.astype(float))"
   ]
  },
  {
   "cell_type": "markdown",
   "metadata": {},
   "source": [
    "## Làm mờ ảnh"
   ]
  },
  {
   "cell_type": "code",
   "execution_count": null,
   "metadata": {},
   "outputs": [],
   "source": [
    "def Gaussian_func(x, sigma):\n",
    "    return np.array(1 / (np.sqrt(2 * np.pi) * sigma) * (np.exp(-np.power(x / sigma, 2) / 2)))"
   ]
  },
  {
   "cell_type": "code",
   "execution_count": null,
   "metadata": {},
   "outputs": [],
   "source": [
    "def calc_Gaussian_kernel(kernel_size, sigma):\n",
    "    kernel_1d = np.linspace(-(kernel_size // 2), kernel_size // 2, num=kernel_size)\n",
    "    kernel_1d = Gaussian_func(kernel_1d, sigma)\n",
    "    kernel_2d = np.outer(kernel_1d.T, kernel_1d.T)\n",
    "    kernel_2d *= 1.0 / np.sum(kernel_2d)\n",
    "    return kernel_2d"
   ]
  },
  {
   "cell_type": "code",
   "execution_count": null,
   "metadata": {},
   "outputs": [],
   "source": [
    "def convolution(img, kernel):\n",
    "    result = np.zeros(img.shape)\n",
    "\n",
    "    image_row, image_col, image_dim = img.shape\n",
    "    kernel_row, kernel_col = kernel.shape \n",
    "    pad_height = (kernel_row - 1) // 2\n",
    "    pad_width = (kernel_col - 1) // 2\n",
    " \n",
    "    padded_image = np.zeros((image_row + (2 * pad_height), image_col + (2 * pad_width), image_dim))\n",
    " \n",
    "    padded_image[pad_height:padded_image.shape[0] - pad_height, pad_width:padded_image.shape[1] - pad_width] = img\n",
    "    \n",
    "    for channel in range(image_dim):\n",
    "        for row in range(image_row):\n",
    "            for col in range(image_col):\n",
    "                result[row, col, channel] = np.sum(kernel * padded_image[row:row + kernel_row, col:col + kernel_col, channel])\n",
    "    \n",
    "    return result.astype(np.uint8)"
   ]
  },
  {
   "cell_type": "code",
   "execution_count": null,
   "metadata": {},
   "outputs": [],
   "source": [
    "def Gaussian_blur(img, kernel_size):\n",
    "    kernel = calc_Gaussian_kernel(kernel_size, sigma=(kernel_size-1)/6)\n",
    "    return convolution(img, kernel)"
   ]
  },
  {
   "cell_type": "markdown",
   "metadata": {},
   "source": [
    "## Test các hàm với ảnh cụ thể"
   ]
  },
  {
   "cell_type": "markdown",
   "metadata": {},
   "source": [
    "### Mở ảnh và đưa ảnh về `np.ndarray`"
   ]
  },
  {
   "cell_type": "code",
   "execution_count": null,
   "metadata": {
    "tags": []
   },
   "outputs": [],
   "source": [
    "input_file = 'tiger.png'\n",
    "image = Image.open(input_file)\n",
    "image = np.array(image)"
   ]
  },
  {
   "cell_type": "markdown",
   "metadata": {
    "tags": []
   },
   "source": [
    "### Thay đổi độ sáng"
   ]
  },
  {
   "cell_type": "code",
   "execution_count": null,
   "metadata": {
    "tags": []
   },
   "outputs": [],
   "source": [
    "# Brightness: -255 to 255\n",
    "brightness = 0\n",
    "result = adjust_brightness(image, brightness)"
   ]
  },
  {
   "cell_type": "code",
   "execution_count": null,
   "metadata": {
    "tags": []
   },
   "outputs": [],
   "source": [
    "plt.imshow(result)"
   ]
  },
  {
   "cell_type": "code",
   "execution_count": null,
   "metadata": {},
   "outputs": [],
   "source": [
    "output_file = input_file.split('.')[0] + '_' + str(brightness) + '_brightness' + '.png'\n",
    "Image.fromarray(result).save(output_file)"
   ]
  },
  {
   "cell_type": "markdown",
   "metadata": {},
   "source": [
    "### Thay đổi độ tương phản"
   ]
  },
  {
   "cell_type": "code",
   "execution_count": null,
   "metadata": {
    "tags": []
   },
   "outputs": [],
   "source": [
    "# Contrast: -255 to 255\n",
    "contrast = 0\n",
    "result = adjust_contrast(image, contrast)"
   ]
  },
  {
   "cell_type": "code",
   "execution_count": null,
   "metadata": {},
   "outputs": [],
   "source": [
    "plt.imshow(result)"
   ]
  },
  {
   "cell_type": "code",
   "execution_count": null,
   "metadata": {},
   "outputs": [],
   "source": [
    "output_file = input_file.split('.')[0] + '_' + str(contrast) + '_contrast' + '.png'\n",
    "Image.fromarray(result).save(output_file)"
   ]
  },
  {
   "cell_type": "markdown",
   "metadata": {},
   "source": [
    "### Chuyển thành ảnh xám"
   ]
  },
  {
   "cell_type": "code",
   "execution_count": null,
   "metadata": {
    "tags": []
   },
   "outputs": [],
   "source": [
    "result = to_grayscale(image)"
   ]
  },
  {
   "cell_type": "code",
   "execution_count": null,
   "metadata": {
    "tags": []
   },
   "outputs": [],
   "source": [
    "plt.imshow(result, cmap='gray')"
   ]
  },
  {
   "cell_type": "code",
   "execution_count": null,
   "metadata": {},
   "outputs": [],
   "source": [
    "output_file = input_file.split('.')[0] + '_grayscale' + '.png'\n",
    "Image.fromarray(result).save(output_file, cmap='gray')"
   ]
  },
  {
   "cell_type": "markdown",
   "metadata": {},
   "source": [
    "### Lật ảnh"
   ]
  },
  {
   "cell_type": "code",
   "execution_count": null,
   "metadata": {},
   "outputs": [],
   "source": [
    "# Direction: 'vertical' or 'horizontal'\n",
    "direction = 'horizontal'\n",
    "result = flip(image, direction)"
   ]
  },
  {
   "cell_type": "code",
   "execution_count": null,
   "metadata": {},
   "outputs": [],
   "source": [
    "plt.imshow(result)"
   ]
  },
  {
   "cell_type": "code",
   "execution_count": null,
   "metadata": {},
   "outputs": [],
   "source": [
    "output_file = input_file.split('.')[0] + '_flip_' + direction + '.png'\n",
    "Image.fromarray(result).save(output_file)"
   ]
  },
  {
   "cell_type": "markdown",
   "metadata": {},
   "source": [
    "### Chồng ảnh"
   ]
  },
  {
   "cell_type": "code",
   "execution_count": null,
   "metadata": {},
   "outputs": [],
   "source": [
    "input_file_2 = 'tiger.png'\n",
    "image_2 = Image.open(input_file)\n",
    "image_2 = np.array(image_2)"
   ]
  },
  {
   "cell_type": "code",
   "execution_count": null,
   "metadata": {},
   "outputs": [],
   "source": [
    "gray_image_1 = to_grayscale(image)\n",
    "gray_image_2 = flip(to_grayscale(image_2), 'horizontal')"
   ]
  },
  {
   "cell_type": "code",
   "execution_count": null,
   "metadata": {},
   "outputs": [],
   "source": [
    "# Alpha: 0.0 to 1.0\n",
    "alpha = 0.5\n",
    "result = blend(gray_image_1, gray_image_2, alpha) "
   ]
  },
  {
   "cell_type": "code",
   "execution_count": null,
   "metadata": {},
   "outputs": [],
   "source": [
    "plt.imshow(result, cmap='gray')"
   ]
  },
  {
   "cell_type": "code",
   "execution_count": null,
   "metadata": {},
   "outputs": [],
   "source": [
    "output_file = input_file.split('.')[0] + '_' + input_file_2.split('.')[0] + '_' + str(alpha) + '_blend' + '.png'\n",
    "Image.fromarray(result).save(output_file, cmap='gray')"
   ]
  },
  {
   "cell_type": "markdown",
   "metadata": {},
   "source": [
    "### Làm mờ ảnh"
   ]
  },
  {
   "cell_type": "code",
   "execution_count": null,
   "metadata": {
    "tags": []
   },
   "outputs": [],
   "source": [
    "# Kernel size: 1 to +inf, is even\n",
    "kernel_size = 15\n",
    "result = Gaussian_blur(image, kernel_size)"
   ]
  },
  {
   "cell_type": "code",
   "execution_count": null,
   "metadata": {
    "tags": []
   },
   "outputs": [],
   "source": [
    "plt.imshow(result)"
   ]
  },
  {
   "cell_type": "code",
   "execution_count": null,
   "metadata": {},
   "outputs": [],
   "source": [
    "output_file = input_file.split('.')[0] + '_' + str(kernel_size) + '_blur' + '.png'\n",
    "Image.fromarray(result).save(output_file)"
   ]
  }
 ],
 "metadata": {
  "kernelspec": {
   "display_name": "Python 3",
   "language": "python",
   "name": "python3"
  },
  "language_info": {
   "codemirror_mode": {
    "name": "ipython",
    "version": 3
   },
   "file_extension": ".py",
   "mimetype": "text/x-python",
   "name": "python",
   "nbconvert_exporter": "python",
   "pygments_lexer": "ipython3",
   "version": "3.7.6-final"
  }
 },
 "nbformat": 4,
 "nbformat_minor": 4
}