{
 "cells": [
  {
   "cell_type": "markdown",
   "metadata": {},
   "source": [
    "# Đồ án 2: Image Processing"
   ]
  },
  {
   "cell_type": "markdown",
   "metadata": {},
   "source": [
    "## Thư viện và hình ảnh"
   ]
  },
  {
   "cell_type": "markdown",
   "metadata": {},
   "source": [
    "### Import thư viện"
   ]
  },
  {
   "cell_type": "code",
   "execution_count": null,
   "metadata": {},
   "outputs": [],
   "source": [
    "import numpy as np\n",
    "from PIL import Image\n",
    "import matplotlib.pyplot as plt"
   ]
  },
  {
   "cell_type": "markdown",
   "metadata": {},
   "source": [
    "### Đọc ảnh và chuyển về `np.ndarray`"
   ]
  },
  {
   "cell_type": "code",
   "execution_count": null,
   "metadata": {},
   "outputs": [],
   "source": [
    "input_file = 'tiger.png'\n",
    "image = Image.open(input_file)\n",
    "image = np.array(image)\n",
    "\n",
    "input_file_2 = 'tiger.png'\n",
    "image_2 = Image.open(input_file_2)\n",
    "image_2 = np.array(image_2)"
   ]
  },
  {
   "cell_type": "markdown",
   "metadata": {},
   "source": [
    "## Thay đổi độ sáng"
   ]
  },
  {
   "cell_type": "code",
   "execution_count": null,
   "metadata": {},
   "outputs": [],
   "source": [
    "def adjust_brightness(img, brightness):\n",
    "    return np.uint8(np.clip(img + np.array([brightness], dtype=np.int16), 0, 255))"
   ]
  },
  {
   "cell_type": "markdown",
   "metadata": {},
   "source": [
    "### Test trên ảnh"
   ]
  },
  {
   "cell_type": "code",
   "execution_count": null,
   "metadata": {},
   "outputs": [],
   "source": [
    "# Brightness: -255 tới 255\n",
    "brightness = -128\n",
    "result = adjust_brightness(image, brightness)"
   ]
  },
  {
   "cell_type": "code",
   "execution_count": null,
   "metadata": {},
   "outputs": [],
   "source": [
    "# Show ảnh trên notebook\n",
    "plt.imshow(result)"
   ]
  },
  {
   "cell_type": "code",
   "execution_count": null,
   "metadata": {},
   "outputs": [],
   "source": [
    "# Xuất ra file\n",
    "output_file = input_file.split('.')[0] + '_' + str(brightness) + '_brightness' + '.png'\n",
    "Image.fromarray(result).save(output_file)"
   ]
  },
  {
   "cell_type": "markdown",
   "metadata": {},
   "source": [
    "## Thay đổi độ tương phản"
   ]
  },
  {
   "cell_type": "code",
   "execution_count": null,
   "metadata": {},
   "outputs": [],
   "source": [
    "def adjust_contrast(img, contrast):\n",
    "    contrast = np.clip(float(contrast), -255, 255)\n",
    "    factor = (259 * (contrast + 255)) / (255 * (259 - contrast))\n",
    "    return np.uint8(np.clip(factor * (img.astype(float) - 128) + 128, 0, 255))"
   ]
  },
  {
   "cell_type": "markdown",
   "metadata": {},
   "source": [
    "### Test trên ảnh"
   ]
  },
  {
   "cell_type": "code",
   "execution_count": null,
   "metadata": {},
   "outputs": [],
   "source": [
    "# Contrast: -255 tới 255\n",
    "contrast = -128\n",
    "result = adjust_contrast(image, contrast)"
   ]
  },
  {
   "cell_type": "code",
   "execution_count": null,
   "metadata": {},
   "outputs": [],
   "source": [
    "# Show ảnh trên notebook\n",
    "plt.imshow(result)"
   ]
  },
  {
   "cell_type": "code",
   "execution_count": null,
   "metadata": {},
   "outputs": [],
   "source": [
    "# Xuất ra file\n",
    "output_file = input_file.split('.')[0] + '_' + str(contrast) + '_contrast' + '.png'\n",
    "Image.fromarray(result).save(output_file)"
   ]
  },
  {
   "cell_type": "markdown",
   "metadata": {},
   "source": [
    "## Chuyển đổi ảnh RGB thành ảnh xám"
   ]
  },
  {
   "cell_type": "code",
   "execution_count": null,
   "metadata": {},
   "outputs": [],
   "source": [
    "def to_grayscale(img, weight):\n",
    "    return np.uint8(np.dot(img[..., :3], weight))"
   ]
  },
  {
   "cell_type": "markdown",
   "metadata": {},
   "source": [
    "### Test trên ảnh"
   ]
  },
  {
   "cell_type": "code",
   "execution_count": null,
   "metadata": {},
   "outputs": [],
   "source": [
    "# Weight: Dưới đây là công thức luma của các ảnh thuộc format CCIR 601\n",
    "weight = [0.299 , 0.587, 0.114]\n",
    "result = to_grayscale(image, weight)"
   ]
  },
  {
   "cell_type": "code",
   "execution_count": null,
   "metadata": {},
   "outputs": [],
   "source": [
    "# Show ảnh trên notebook\n",
    "    # cmap='gray': để show ảnh với 3 kênh màu khi ảnh xám chỉ có duy nhất 1 kênh\n",
    "plt.imshow(result, cmap='gray')"
   ]
  },
  {
   "cell_type": "code",
   "execution_count": null,
   "metadata": {},
   "outputs": [],
   "source": [
    "# Xuất ra file\n",
    "output_file = input_file.split('.')[0] + '_grayscale' + '.png'\n",
    "Image.fromarray(result).save(output_file, cmap='gray')"
   ]
  },
  {
   "cell_type": "markdown",
   "metadata": {},
   "source": [
    "## Lật ảnh ngang - dọc"
   ]
  },
  {
   "cell_type": "code",
   "execution_count": null,
   "metadata": {},
   "outputs": [],
   "source": [
    "def flip(img, direction):\n",
    "    return np.flipud(img) if direction == 'vertical' else np.fliplr(img)"
   ]
  },
  {
   "cell_type": "markdown",
   "metadata": {},
   "source": [
    "### Test trên ảnh"
   ]
  },
  {
   "cell_type": "code",
   "execution_count": null,
   "metadata": {},
   "outputs": [],
   "source": [
    "# Direction: 'vertical' hoặc 'horizontal'\n",
    "direction = 'vertical'\n",
    "result = flip(image, direction)"
   ]
  },
  {
   "cell_type": "code",
   "execution_count": null,
   "metadata": {},
   "outputs": [],
   "source": [
    "# Show ảnh trên notebook\n",
    "plt.imshow(result)"
   ]
  },
  {
   "cell_type": "code",
   "execution_count": null,
   "metadata": {},
   "outputs": [],
   "source": [
    "# Xuất ra file\n",
    "output_file = input_file.split('.')[0] + '_flip_' + direction + '.png'\n",
    "Image.fromarray(result).save(output_file)"
   ]
  },
  {
   "cell_type": "markdown",
   "metadata": {},
   "source": [
    "## Chồng hai ảnh cùng kích thước"
   ]
  },
  {
   "cell_type": "code",
   "execution_count": null,
   "metadata": {},
   "outputs": [],
   "source": [
    "def blend(img_1, img_2, alpha):\n",
    "    return np.uint8(alpha * img_1.astype(float) + (1 - alpha) * img_2.astype(float))"
   ]
  },
  {
   "cell_type": "markdown",
   "metadata": {},
   "source": [
    "### Test trên ảnh"
   ]
  },
  {
   "cell_type": "code",
   "execution_count": null,
   "metadata": {},
   "outputs": [],
   "source": [
    "# Chuyển input thành ảnh xám, tuy nhiên vẫn có thể thực hiện được trên ảnh màu\n",
    "gray_image_1 = to_grayscale(image, weight)\n",
    "gray_image_2 = flip(to_grayscale(image_2, weight), 'horizontal')"
   ]
  },
  {
   "cell_type": "code",
   "execution_count": null,
   "metadata": {},
   "outputs": [],
   "source": [
    "# Alpha: 0.0 tới 1.0\n",
    "alpha = 0.5\n",
    "result = blend(gray_image_1, gray_image_2, alpha)"
   ]
  },
  {
   "cell_type": "code",
   "execution_count": null,
   "metadata": {},
   "outputs": [],
   "source": [
    "# Show ảnh trên notebook\n",
    "plt.imshow(result, cmap='gray')"
   ]
  },
  {
   "cell_type": "code",
   "execution_count": null,
   "metadata": {},
   "outputs": [],
   "source": [
    "# Xuất ra file\n",
    "output_file = input_file.split('.')[0] + '_' + input_file_2.split('.')[0] + '_' + str(alpha) + '_blend' + '.png'\n",
    "Image.fromarray(result).save(output_file, cmap='gray')"
   ]
  },
  {
   "cell_type": "markdown",
   "metadata": {},
   "source": [
    "## Làm mờ ảnh"
   ]
  },
  {
   "cell_type": "markdown",
   "metadata": {},
   "source": [
    "### Hàm Gaussian (còn gọi là Phân phối chuẩn trong thống kê)"
   ]
  },
  {
   "cell_type": "code",
   "execution_count": null,
   "metadata": {},
   "outputs": [],
   "source": [
    "def Gaussian_func(x, sigma):\n",
    "    return np.array(1 / (np.sqrt(2 * np.pi) * sigma) * (np.exp(-np.power(x / sigma, 2) / 2)))"
   ]
  },
  {
   "cell_type": "markdown",
   "metadata": {},
   "source": [
    "### Tìm Gaussian filter kernel"
   ]
  },
  {
   "cell_type": "code",
   "execution_count": null,
   "metadata": {},
   "outputs": [],
   "source": [
    "def calc_Gaussian_kernel(kernel_size, sigma):\n",
    "    kernel_1d = np.linspace(-(kernel_size // 2), kernel_size // 2, num=kernel_size)\n",
    "    kernel_1d = Gaussian_func(kernel_1d, sigma)\n",
    "    kernel_2d = np.outer(kernel_1d.T, kernel_1d.T)\n",
    "    kernel_2d *= 1.0 / np.sum(kernel_2d)\n",
    "    return kernel_2d "
   ]
  },
  {
   "cell_type": "markdown",
   "metadata": {},
   "source": [
    "### Tích chập trên ma trận 2 chiều"
   ]
  },
  {
   "cell_type": "code",
   "execution_count": null,
   "metadata": {},
   "outputs": [],
   "source": [
    "def convolve_layer(layer, kernel):\n",
    "    view = kernel.shape + tuple(np.subtract(layer.shape, kernel.shape) + 1)\n",
    "    submatrices = np.lib.stride_tricks.as_strided(layer, shape = view, strides = layer.strides * 2)\n",
    "    return np.einsum('ij,ijkl->kl', kernel, submatrices)"
   ]
  },
  {
   "cell_type": "markdown",
   "metadata": {},
   "source": [
    "### Tích chập trên ảnh màu gồm 3 kênh RGB"
   ]
  },
  {
   "cell_type": "code",
   "execution_count": null,
   "metadata": {},
   "outputs": [],
   "source": [
    "def convolution(img, kernel):\n",
    "    return np.dstack((convolve_layer(img[:,:,0], kernel), convolve_layer(img[:,:,1], kernel), convolve_layer(img[:,:,2], kernel)))"
   ]
  },
  {
   "cell_type": "markdown",
   "metadata": {},
   "source": [
    "### Gaussian blur với kernel size tùy chọn"
   ]
  },
  {
   "cell_type": "code",
   "execution_count": null,
   "metadata": {},
   "outputs": [],
   "source": [
    "def Gaussian_blur(img, kernel_size):\n",
    "    kernel = calc_Gaussian_kernel(kernel_size, sigma=(kernel_size-1)/6)\n",
    "    return np.uint8(convolution(img, kernel))"
   ]
  },
  {
   "cell_type": "markdown",
   "metadata": {},
   "source": [
    "### Test trên ảnh"
   ]
  },
  {
   "cell_type": "code",
   "execution_count": null,
   "metadata": {
    "tags": []
   },
   "outputs": [],
   "source": [
    "# Kernel size: từ 1 đến dương vô cùng, phải là số lẻ\n",
    "kernel_size = 15\n",
    "result = Gaussian_blur(image, kernel_size)"
   ]
  },
  {
   "cell_type": "code",
   "execution_count": null,
   "metadata": {
    "tags": []
   },
   "outputs": [],
   "source": [
    "# Show ảnh trên notebook\n",
    "plt.imshow(result)"
   ]
  },
  {
   "cell_type": "code",
   "execution_count": null,
   "metadata": {},
   "outputs": [],
   "source": [
    "# Xuất ra file\n",
    "output_file = input_file.split('.')[0] + '_' + str(kernel_size) + '_blur' + '.png'\n",
    "Image.fromarray(result).save(output_file)"
   ]
  }
 ],
 "metadata": {
  "kernelspec": {
   "display_name": "Python 3",
   "language": "python",
   "name": "python3"
  },
  "language_info": {
   "codemirror_mode": {
    "name": "ipython",
    "version": 3
   },
   "file_extension": ".py",
   "mimetype": "text/x-python",
   "name": "python",
   "nbconvert_exporter": "python",
   "pygments_lexer": "ipython3",
   "version": "3.7.6-final"
  }
 },
 "nbformat": 4,
 "nbformat_minor": 4
}